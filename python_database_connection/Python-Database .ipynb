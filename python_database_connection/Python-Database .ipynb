{
 "cells": [
  {
   "cell_type": "code",
   "execution_count": 14,
   "metadata": {},
   "outputs": [
    {
     "ename": "ModuleNotFoundError",
     "evalue": "No module named 'mysql'",
     "output_type": "error",
     "traceback": [
      "\u001b[1;31m---------------------------------------------------------------------------\u001b[0m",
      "\u001b[1;31mModuleNotFoundError\u001b[0m                       Traceback (most recent call last)",
      "\u001b[1;32m<ipython-input-14-4adf26dcfba4>\u001b[0m in \u001b[0;36m<module>\u001b[1;34m\u001b[0m\n\u001b[1;32m----> 1\u001b[1;33m \u001b[1;32mimport\u001b[0m \u001b[0mmysql\u001b[0m\u001b[1;33m.\u001b[0m\u001b[0mconnector\u001b[0m \u001b[1;32mas\u001b[0m \u001b[0msql\u001b[0m\u001b[1;33m\u001b[0m\u001b[1;33m\u001b[0m\u001b[0m\n\u001b[0m\u001b[0;32m      2\u001b[0m \u001b[1;33m\u001b[0m\u001b[0m\n\u001b[0;32m      3\u001b[0m \u001b[0mmydb\u001b[0m \u001b[1;33m=\u001b[0m \u001b[0msql\u001b[0m\u001b[1;33m.\u001b[0m\u001b[0mconnect\u001b[0m\u001b[1;33m(\u001b[0m\u001b[0mhost\u001b[0m \u001b[1;33m=\u001b[0m \u001b[1;34m'localhost'\u001b[0m\u001b[1;33m,\u001b[0m \u001b[0muser\u001b[0m \u001b[1;33m=\u001b[0m \u001b[1;34m'root'\u001b[0m\u001b[1;33m,\u001b[0m \u001b[0mpasswd\u001b[0m \u001b[1;33m=\u001b[0m \u001b[1;34m'idontknow123&!@#'\u001b[0m\u001b[1;33m,\u001b[0m \u001b[0mdatabase\u001b[0m \u001b[1;33m=\u001b[0m \u001b[1;34m'FirstTrySQL'\u001b[0m\u001b[1;33m)\u001b[0m\u001b[1;33m\u001b[0m\u001b[1;33m\u001b[0m\u001b[0m\n\u001b[0;32m      4\u001b[0m \u001b[1;33m\u001b[0m\u001b[0m\n\u001b[0;32m      5\u001b[0m \u001b[0mcursor\u001b[0m \u001b[1;33m=\u001b[0m \u001b[0mmydb\u001b[0m\u001b[1;33m.\u001b[0m\u001b[0mcursor\u001b[0m\u001b[1;33m(\u001b[0m\u001b[1;33m)\u001b[0m\u001b[1;33m\u001b[0m\u001b[1;33m\u001b[0m\u001b[0m\n",
      "\u001b[1;31mModuleNotFoundError\u001b[0m: No module named 'mysql'"
     ]
    }
   ],
   "source": [
    "import mysql.connector as sql\n",
    "\n",
    "mydb = sql.connect(host = 'localhost', user = 'root', passwd = 'idontknow123&!@#', database = 'FirstTrySQL')\n",
    "\n",
    "cursor = mydb.cursor()\n",
    "cursor1 = mydb.cursor()\n",
    "\n",
    "lst = [x**2 for x in range(1,101)]\n",
    "#print(lst,'\\n')\n",
    "\n",
    "sql1 = '''\n",
    "\n",
    "       CREATE TABLE EMPLOYEE (\n",
    "       EMPID INT(6) NOT NULL,\n",
    "       NAME CHAR(20) NOT NULL,\n",
    "       AGE INT,\n",
    "       SEX CHAR(1),\n",
    "       INCOME FLOAT\n",
    "       )\n",
    "       '''\n",
    "insert = ('insert into employee(EMPID, NAME, AGE, SEX, INCOME) values (%s, %s, %s, %s, %s)')\n",
    "val = (12211, \"Shivam\", 26, \"M\", 25000.00)\n",
    "\n",
    "\n",
    "if input('\\npress \"i\" to insert values :  ') == 'i':    \n",
    "    try:\n",
    "        #cursor.execute(\"INSERT INTO EMPLOYEE VALUES (input('\\nEmp ID: '), input('\\nEmp Name: '), input('\\nAge: '),  input('\\nSex: '), input('\\nIncome: '))\")\n",
    "        cursor.execute(insert, val)\n",
    "\n",
    "        if input('\\npress \"c\" for commit :  ') == 'c':\n",
    "            mydb.commit()\n",
    "            print('Changes saved to DB')\n",
    "        else:\n",
    "            print('\\nNo changes were made to DB\\n')\n",
    "    except Exception as e:\n",
    "        print(\"Error Message :\", str(e))\n",
    "        mydb.rollback()\n",
    "        \n",
    "else:\n",
    "    pass\n",
    "\n",
    "if input('\\npress d to delete table contents :  ') == 'd':\n",
    "    try:\n",
    "        cursor.execute(\"delete from employee\")\n",
    "        if input('\\npress dc for commit deletion :  ') == 'dc':\n",
    "            mydb.commit()\n",
    "            print('Table Deleted')\n",
    "        else:\n",
    "            print('\\nNo changes were made to DB\\n')\n",
    "    except Exception as e:\n",
    "        print(\"Error Message :\", str(e))\n",
    "        mydb.rollback()\n",
    "else:\n",
    "    pass\n",
    "print('\\nThe DB data is: \\n')    \n",
    "#marks = cursor.execute('select * from marks')    \n",
    "cursor.execute('select * from employee')\n",
    "emp = cursor.fetchall()\n",
    "\n",
    "for i in emp:\n",
    "    print(i)\n",
    "\n",
    "\n",
    "    \n",
    "\n",
    "mydb.close()\n"
   ]
  },
  {
   "cell_type": "code",
   "execution_count": 63,
   "metadata": {},
   "outputs": [
    {
     "name": "stdout",
     "output_type": "stream",
     "text": [
      "(456789, 'Frodo', 45, 'M', 100000.0)\n"
     ]
    }
   ],
   "source": [
    "import sqlite3\n",
    "\n",
    "con = sqlite3.connect('D:\\\\TEST.db')\n",
    "\n",
    "cursor = con.cursor()\n",
    "\n",
    "sql1 = 'DROP TABLE IF EXISTS EMPLOYEE'\n",
    "\n",
    "sql2 = '''\n",
    "\n",
    "       CREATE TABLE EMPLOYEE (\n",
    "       EMPID INT(6) NOT NULL,\n",
    "       NAME CHAR(20) NOT NULL,\n",
    "       AGE INT,\n",
    "       SEX CHAR(1),\n",
    "       INCOME FLOAT\n",
    "       )\n",
    "      '''\n",
    "cursor.execute(sql1)\n",
    "cursor.execute(sql2)\n",
    "\n",
    "rec = (456789, 'Frodo', 45, 'M', 100000.00)\n",
    "sql = '''\n",
    "      INSERT INTO EMPLOYEE(empid, name, age, sex, income) VALUES ( ?, ?, ?, ?, ?)\n",
    "      '''\n",
    "try:\n",
    "    cursor.execute(sql, rec)\n",
    "    con.commit()\n",
    "\n",
    "except Exception as e:\n",
    "    print(\"Error Message :\", str(e))\n",
    "    con.rollback()\n",
    "\n",
    "cursor.execute('select * from employee')\n",
    "emp = cursor.fetchall()   \n",
    "\n",
    "for i in emp:\n",
    "    print(i)\n",
    "\n",
    "con.close()"
   ]
  },
  {
   "cell_type": "code",
   "execution_count": 20,
   "metadata": {},
   "outputs": [
    {
     "ename": "ModuleNotFoundError",
     "evalue": "No module named 'mysql'",
     "output_type": "error",
     "traceback": [
      "\u001b[1;31m---------------------------------------------------------------------------\u001b[0m",
      "\u001b[1;31mModuleNotFoundError\u001b[0m                       Traceback (most recent call last)",
      "\u001b[1;32m<ipython-input-20-5cf4c4b433f3>\u001b[0m in \u001b[0;36m<module>\u001b[1;34m\u001b[0m\n\u001b[1;32m----> 1\u001b[1;33m \u001b[1;32mimport\u001b[0m \u001b[0mmysql\u001b[0m\u001b[1;33m.\u001b[0m\u001b[0mconnector\u001b[0m \u001b[1;32mas\u001b[0m \u001b[0msql\u001b[0m\u001b[1;33m\u001b[0m\u001b[1;33m\u001b[0m\u001b[0m\n\u001b[0m\u001b[0;32m      2\u001b[0m \u001b[1;32mimport\u001b[0m \u001b[0mpetl\u001b[0m\u001b[1;33m\u001b[0m\u001b[1;33m\u001b[0m\u001b[0m\n\u001b[0;32m      3\u001b[0m \u001b[1;33m\u001b[0m\u001b[0m\n\u001b[0;32m      4\u001b[0m dbs = {\"Source\":\"host = 'localhost', user = 'root', passwd = 'idontknow123&!@#', database = 'sourcedb'\", \"Target\":\n\u001b[0;32m      5\u001b[0m        \"host = 'localhost', user = 'root', passwd = 'idontknow123&!@#', database = 'targetdb'\"}\n",
      "\u001b[1;31mModuleNotFoundError\u001b[0m: No module named 'mysql'"
     ]
    }
   ],
   "source": [
    "import mysql.connector as sql\n",
    "import petl\n",
    "\n",
    "dbs = {\"Source\":\"host = 'localhost', user = 'root', passwd = 'idontknow123&!@#', database = 'sourcedb'\", \"Target\":\n",
    "       \"host = 'localhost', user = 'root', passwd = 'idontknow123&!@#', database = 'targetdb'\"}\n",
    "\n",
    "#sourceconn = sql.connect(dbs['Source'])\n",
    "#targetconn = sql.connect(dbs['Target'])\n",
    "\n",
    "sourceConn = sql.connect(host='localhost', user='root', passwd='idontknow123&!@#', database='sourcedb')\n",
    "targetConn = sql.connect(host='localhost', user='root', passwd='idontknow123&!@#', database='targetdb')\n",
    "\n",
    "scursor = sourceConn.cursor()\n",
    "tcursor = targetConn.cursor()\n",
    "\n",
    "sqlsel = '''select * from employee'''\n",
    "sqlval = ('insert into employee(ID, Name, Age, Location, Sex, Skill) values(%s, %s, %s, %s, %s, %s)')\n",
    "val1 = (12213, 'Shivam Maurya', 26, 'Pune', 'M', 'Python 3')\n",
    "scursor.execute(sqlval, val1)\n",
    "scursor.execute(sqlsel)\n",
    "dt = scursor.fetchall()\n",
    "print(dt)\n",
    "\n",
    "scursor.execute(\"\"\"SELECT Table_name as TablesName from information_schema.tables where table_schema = 'sourcedb'\"\"\")\n",
    "\n",
    "alltables = scursor.fetchall()\n",
    "print(alltables)\n",
    "\n",
    "for i in alltables:\n",
    "    tcursor.execute(\"drop table if exists %s\" %(i[0]))\n",
    "    sourcedata = petl.fromdb(sourceConn, 'select * from %s' %i[0])\n",
    "    print(sourcedata)\n",
    "    tcursor.execute('SET SQL_MODE=ANSI_QUOTES')\n",
    "    petl.todb(sourcedata, targetConn,  i[0])"
   ]
  },
  {
   "cell_type": "code",
   "execution_count": null,
   "metadata": {},
   "outputs": [],
   "source": []
  },
  {
   "cell_type": "code",
   "execution_count": 185,
   "metadata": {},
   "outputs": [
    {
     "name": "stdout",
     "output_type": "stream",
     "text": [
      "[(101, 'Nik D300', 'Nik D300', 'DSLR Camera', 3), (102, 'Can 1300', 'Can 1300', 'DSLR Camera', 5), (103, 'gPhone 13S', 'gPhone 13S', 'Mobile', 10), (104, 'Mic canvas', 'Mic canvas', 'Tab', 5), (105, 'SnDisk 10T', 'SnDisk 10T', 'Hard Drive', 1)]\n"
     ]
    }
   ],
   "source": [
    "import os\n",
    "import sys\n",
    "import sqlite3\n",
    "\n",
    "conn = sqlite3.connect('SAMPLE.db')\n",
    "cursor = conn.cursor()\n",
    "\n",
    "cursor.execute(\"drop table if exists ITEMS\")\n",
    "    \n",
    "sql_statement = '''CREATE TABLE ITEMS\n",
    "    (item_id integer not null, item_name varchar(300), \n",
    "    item_description text, item_category text, \n",
    "    quantity_in_stock integer)'''\n",
    "    \n",
    "cursor.execute(sql_statement)\n",
    "\n",
    "items = [(101, 'Nik D300', 'Nik D300', 'DSLR Camera', 3),\n",
    "                 (102, 'Can 1300', 'Can 1300', 'DSLR Camera', 5),\n",
    "                 (103, 'gPhone 13S', 'gPhone 13S', 'Mobile', 10),\n",
    "                 (104, 'Mic canvas', 'Mic canvas', 'Tab', 5),\n",
    "                 (105, 'SnDisk 10T', 'SnDisk 10T', 'Hard Drive', 1)\n",
    "                 ]\n",
    "\n",
    "sql = '''\n",
    "\n",
    "       INSERT INTO ITEMS\n",
    "       (item_id, item_name, item_description, \n",
    "       item_category, quantity_in_stock) \n",
    "       VALUES (?, ?, ?, ?, ?);\n",
    "\n",
    "      '''\n",
    "try:\n",
    "    cursor.executemany(sql, items)\n",
    "    cursor.execute(\"select * from ITEMS\")\n",
    "except:\n",
    "    print('Unable to perform the transaction.')\n",
    "rowout=[]     \n",
    "for row in cursor.fetchall():\n",
    "    rowout.append(row)\n",
    "print(rowout)    \n",
    "conn.close()\n"
   ]
  },
  {
   "cell_type": "code",
   "execution_count": 186,
   "metadata": {},
   "outputs": [
    {
     "data": {
      "text/plain": [
       "[(101, 2), (102, 5), (103, 4), (104, 5), (105, 0)]"
      ]
     },
     "execution_count": 186,
     "metadata": {},
     "output_type": "execute_result"
    }
   ],
   "source": [
    "import sqlite3\n",
    "\n",
    "def main():\n",
    "    conn = sqlite3.connect('SAMPLE.db')\n",
    "    cursor = conn.cursor()\n",
    "    cursor.execute(\"drop table if exists ITEMS\")\n",
    "    \n",
    "    sql_statement = '''CREATE TABLE ITEMS\n",
    "    (item_id integer not null, item_name varchar(300), \n",
    "    item_description text, item_category text, \n",
    "    quantity_in_stock integer)'''\n",
    "    \n",
    "    cursor.execute(sql_statement)\n",
    "    \n",
    "    items = [(101, 'Nik D300', 'Nik D300', 'DSLR Camera', 3),\n",
    "             (102, 'Can 1300', 'Can 1300', 'DSLR Camera', 5),\n",
    "             (103, 'gPhone 13S', 'gPhone 13S', 'Mobile', 10),\n",
    "             (104, 'Mic canvas', 'Mic canvas', 'Tab', 5),\n",
    "             (105, 'SnDisk 10T', 'SnDisk 10T', 'Hard Drive', 1)\n",
    "             ]\n",
    "    try:\n",
    "        cursor.executemany(\"Insert into ITEMS values (?,?,?,?,?)\", items)\n",
    "\n",
    "        #Add code for updating quantity_in_stock\n",
    "        cursor.execute('update items set quantity_in_stock = 4 where item_id = 103')\n",
    "        cursor.execute('update items set quantity_in_stock = 2 where item_id = 101')\n",
    "        cursor.execute('update items set quantity_in_stock = 0 where item_id = 105')\n",
    "        cursor.execute(\"select item_id,quantity_in_stock from ITEMS\")\n",
    "    except:\n",
    "        'Unable to perform the transaction.'\n",
    "    rowout=[]    \n",
    "    for row in cursor.fetchall():\n",
    "        rowout.append(row)\n",
    "    return rowout    \n",
    "    conn.close()\n",
    "main()"
   ]
  },
  {
   "cell_type": "code",
   "execution_count": null,
   "metadata": {},
   "outputs": [],
   "source": []
  },
  {
   "cell_type": "code",
   "execution_count": null,
   "metadata": {},
   "outputs": [],
   "source": []
  },
  {
   "cell_type": "code",
   "execution_count": null,
   "metadata": {},
   "outputs": [],
   "source": []
  },
  {
   "cell_type": "code",
   "execution_count": null,
   "metadata": {},
   "outputs": [],
   "source": []
  },
  {
   "cell_type": "code",
   "execution_count": null,
   "metadata": {},
   "outputs": [],
   "source": []
  }
 ],
 "metadata": {
  "kernelspec": {
   "display_name": "Python 3",
   "language": "python",
   "name": "python3"
  },
  "language_info": {
   "codemirror_mode": {
    "name": "ipython",
    "version": 3
   },
   "file_extension": ".py",
   "mimetype": "text/x-python",
   "name": "python",
   "nbconvert_exporter": "python",
   "pygments_lexer": "ipython3",
   "version": "3.8.5"
  }
 },
 "nbformat": 4,
 "nbformat_minor": 4
}
