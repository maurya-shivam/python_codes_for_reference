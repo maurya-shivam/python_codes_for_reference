{
 "cells": [
  {
   "cell_type": "code",
   "execution_count": 33,
   "metadata": {},
   "outputs": [
    {
     "name": "stdout",
     "output_type": "stream",
     "text": [
      "\n",
      "char >< ASCII\n",
      "65\n",
      "A\n",
      "int into string:\n",
      "5\n",
      "5\n",
      "5\n",
      "\n",
      "string into int\n",
      "5\n",
      "\n",
      "list into a string\n",
      "My Name is Shivam\n",
      "1234\n",
      "1 2 3 4\n",
      "1234\n",
      "I want 4 apples and 18 bananas\n",
      "\n",
      "sting into list\n",
      "['H', 'e', 'l', 'l', 'o']\n",
      "['M', 'y', ' ', 'n', 'a', 'm', 'e', ' ', 'i', 's', ' ', 'S', 'h', 'i', 'v', 'a', 'm']\n",
      "['Hello']\n",
      "['My', 'name', 'is', 'Shivam']\n",
      "['H', 'e', 'l', 'l', 'o']\n",
      "['H', 'e', 'l', 'l', 'o']\n"
     ]
    }
   ],
   "source": [
    "print('\\nchar >< ASCII')\n",
    "\n",
    "print(ord('A'))\n",
    "print(chr(65))\n",
    "\n",
    "print('int into string:')\n",
    "x = 5\n",
    "#print(str(x)) -->> (won't work)\n",
    "print('%d' %x)\n",
    "print('{}'.format(x))\n",
    "print(f'{x}')\n",
    "\n",
    "print('\\nstring into int')\n",
    "s = '5'\n",
    "print(int(s))\n",
    "\n",
    "print('\\nlist into a string')\n",
    "ls = [1,2,3,4]\n",
    "l = ['My', 'Name', 'is', 'Shivam']\n",
    "lsi = ['I', 'want', 4, 'apples', 'and', 18, 'bananas']\n",
    "\n",
    "#print(str(ls)) -->> won't work\n",
    "#print(''.join(ls)) -->> won't work, join works only for ints.\n",
    "print(' '.join(l))\n",
    "u = ('%d' %x for x in ls)  #will make a generator can be saved into a variable and then used further in other conversion methods\n",
    "print(''.join(u))\n",
    "print(' '.join('%d' %x for x in ls))\n",
    "print(''.join('{}'.format(x) for x in ls))\n",
    "print(' '.join(f'{x}' for x in lsi))\n",
    "\n",
    "print('\\nstring into list')\n",
    "st = 'Hello'\n",
    "sts = 'My name is Shivam'\n",
    "\n",
    "print(list(st))\n",
    "print(list(sts))\n",
    "\n",
    "print(st.split())\n",
    "print(sts.split(' '))\n",
    "\n",
    "print([x for x in st])\n",
    "ls = []\n",
    "ls[:0] = st\n",
    "print(ls)\n",
    "\n",
    "\n"
   ]
  },
  {
   "cell_type": "code",
   "execution_count": 37,
   "metadata": {
    "scrolled": true
   },
   "outputs": [
    {
     "name": "stdout",
     "output_type": "stream",
     "text": [
      "[1, 2, 3, 4, 5, 6, 7, 8, 9, 10, 11, 12]\n",
      "[1, 2, 3]\n",
      "[1, 2, 3, 4]\n",
      "[1, 2, 3, 4, 5, 6]\n",
      "[[1, 2, 3, 4, 5, 6], ['a', 'b', 'c']]\n",
      "[1, 2, 3, 4, 5, 6, 'a', 'b', 'c']\n",
      "[1, 2, 3, 4, 5, 6, 'a', 'b', 'c']\n",
      "[11, 22, 33, 2, 3, 4, 'Hello', False, ':adsfe']\n"
     ]
    }
   ],
   "source": [
    "# List append and extend\n",
    "\n",
    "listvalue = [x for x in range(1,13)]\n",
    "print(listvalue)\n",
    "\n",
    "l1 = [1,2,3]\n",
    "print(l1)\n",
    "l1.append(4)\n",
    "print(l1)\n",
    "# l2.append(5,6)  # gives error can take only one argument\n",
    "l1.extend((5,6)) # or l1.extend([5,6])\n",
    "print(l1)\n",
    "l2 = ['a','b', 'c']\n",
    "\n",
    "ln = []\n",
    "# print(ln.extend(l1+l2))  #doesn't work gives none\n",
    "# ln.extend(l1, l2)  # takes one argument only\n",
    "ln.extend((l1, l2))\n",
    "print(ln)\n",
    "ln = []\n",
    "ln.extend((l1+l2))\n",
    "print(ln)\n",
    "ln = []\n",
    "ln = l1+l2\n",
    "print(ln)\n",
    "\n",
    "# for multiple appends\n",
    "list = [11,22,33]\n",
    "list.extend((2,3,4,'Hello', False, ':adsfe'))\n",
    "print(list)"
   ]
  },
  {
   "cell_type": "code",
   "execution_count": 120,
   "metadata": {},
   "outputs": [
    {
     "name": "stdout",
     "output_type": "stream",
     "text": [
      "[6, 5, 4, 3, 2, 1]\n",
      "[5, 4, 3, 2, 1]\n",
      "[5, 4, 3, 2]\n",
      "1\n",
      "[5, 3, 2]\n"
     ]
    }
   ],
   "source": [
    "# List remove, pop, sort, index...\n",
    "\n",
    "ls = [2,1,3,6,5,4]\n",
    "ls.sort(reverse = True)\n",
    "print(ls)\n",
    "ls.remove(max(ls))   # works with values\n",
    "print(ls)\n",
    "ls.pop(-1)   # works with Index numbers only\n",
    "print(ls)\n",
    "print(ls.index(4))   # works with values\n",
    "ls.pop(ls.index(4))\n",
    "print(ls)"
   ]
  },
  {
   "cell_type": "code",
   "execution_count": 9,
   "metadata": {},
   "outputs": [
    {
     "name": "stdout",
     "output_type": "stream",
     "text": [
      "[2, 4, 6, 8, 10]\n",
      "[10, 8, 6, 4, 2]\n",
      "[1, 16, 27, 16, 5]\n",
      "[['s', 'a', 't'], ['b', 'a', 't'], ['c', 'a', 't'], ['m', 'a', 't']]\n",
      "[['s', 'a', 't'], ['b', 'a', 't'], ['c', 'a', 't'], ['m', 'a', 't']]\n",
      "15\n"
     ]
    }
   ],
   "source": [
    "from functools import reduce\n",
    "# Lambda Function\n",
    "\n",
    "#### map() function    : list(map(function, iterables))    \n",
    "l_1 = [1,2,3,4,5]\n",
    "l_2 = [5,4,3,2,1]\n",
    "l_str = ['sat', 'bat', 'cat', 'mat']\n",
    "\n",
    "def adder(a):\n",
    "    return a+a\n",
    "print(list(map(adder, l_1)))\n",
    "print(list(map(lambda x: x+x, l_2)))\n",
    "\n",
    "# operations on two lists (add, multiply like that)\n",
    "print(list(map(lambda a,b: a**b, l_1, l_2)))\n",
    "print(list(map(list, l_str)))\n",
    "print(list(map(lambda x: list(x), l_str)))\n",
    "\n",
    "#### reduce() function -->> from functools import reduce       : reduce(fucntion, iterables)\n",
    "print(reduce(lambda a,b: a+b, l_1))\n"
   ]
  },
  {
   "cell_type": "code",
   "execution_count": 34,
   "metadata": {},
   "outputs": [
    {
     "name": "stdout",
     "output_type": "stream",
     "text": [
      "5\n",
      "12345\n",
      "[2, 4, 6, 8, 10]\n",
      "15\n"
     ]
    }
   ],
   "source": [
    "from functools import reduce\n",
    "nums = [1,2,3,4,5]\n",
    "print(len(nums))\n",
    "print(''.join('%d' %x for x in nums))\n",
    "x = list(map(lambda a: a+a, nums))\n",
    "y = reduce(lambda a,b:a+b, nums)\n",
    "print(x)\n",
    "print(y)"
   ]
  },
  {
   "cell_type": "markdown",
   "metadata": {},
   "source": [
    "........................................................................................................................."
   ]
  },
  {
   "cell_type": "code",
   "execution_count": null,
   "metadata": {},
   "outputs": [
    {
     "name": "stdout",
     "output_type": "stream",
     "text": [
      "Enter 3 Values seperated by space: 1 2 3\n",
      "Values are : 1 2 3\n",
      "<class 'str'>\n"
     ]
    }
   ],
   "source": [
    "a, b, c = input('Enter 3 Values seperated by space: ').split()\n",
    "print('Values are : {} {} {}'.format(a, b, c))\n",
    "print(type(a))\n",
    "\n",
    "i, j, k = list(map(int, input('\\nEnter 3 values seperated by comma: ').split(',')))\n",
    "print('Values are : {} {} {}'.format(i, j, k))\n",
    "print(type(i))\n",
    "\n",
    "x, y, z = [int(i) for i in input('\\nEnter 3 values seperated by comma: ').split(',')]\n",
    "print('Values are : {} {} {}'.format(x, y, z))\n",
    "print(type(x))"
   ]
  },
  {
   "cell_type": "code",
   "execution_count": 13,
   "metadata": {},
   "outputs": [
    {
     "name": "stdout",
     "output_type": "stream",
     "text": [
      "Shivam 11 22 33 44 55\n",
      "Shivam\n",
      "[11.0, 22.0, 33.0, 44.0, 55.0]\n"
     ]
    }
   ],
   "source": [
    "name, *ls  = input().split()\n",
    "print(name)\n",
    "#ls = [float(x) for x in ls]\n",
    "ls = list(map(float, ls))\n",
    "print(ls)"
   ]
  },
  {
   "cell_type": "code",
   "execution_count": 6,
   "metadata": {},
   "outputs": [
    {
     "name": "stdout",
     "output_type": "stream",
     "text": [
      "dict_keys(['a', 'b', 'c', 'd', 'e'])\n",
      "dict_values([1111, 2222, 3333, 4444, 5555])\n",
      "a : 1111\n",
      "b : 2222\n",
      "c : 3333\n",
      "d : 4444\n",
      "e : 5555\n",
      "\n",
      "a : 1111\n",
      "b : 2222\n",
      "c : 3333\n",
      "d : 4444\n",
      "e : 5555\n",
      "\n",
      "dict_items([('a', 1111), ('b', 2222), ('c', 3333), ('d', 4444), ('e', 5555)])\n",
      "a : 1111\n",
      "b : 2222\n",
      "c : 3333\n",
      "d : 4444\n",
      "e : 5555\n"
     ]
    }
   ],
   "source": [
    "dic = {'a': 1111, 'b': 2222, 'c': 3333, 'd': 4444, 'e': 5555}\n",
    "\n",
    "print(dic.keys())\n",
    "print(dic.values())\n",
    "for key in dic:\n",
    "    print(key, ':', dic[key])\n",
    "print()\n",
    "for key in dic.keys():\n",
    "    print(key, ':', dic[key])\n",
    "print()\n",
    "print(dic.items())\n",
    "for key, value in dic.items():\n",
    "    print(key, ':', value)"
   ]
  },
  {
   "cell_type": "code",
   "execution_count": 3,
   "metadata": {},
   "outputs": [
    {
     "name": "stdout",
     "output_type": "stream",
     "text": [
      "Enter your text: (use \"//end\" to terminate)\n",
      "Well\n",
      "That was so stupid, I typed lots of nonsense back there.\n",
      "hahahah\n",
      "I feel like a stupid person, but actually I ain't.\n",
      "And you ain't got anything to prove that, you moadafaka d@g.\n",
      "//end\n",
      "\n",
      "Well\n",
      "That was so stupid, I typed lots of nonsense back there.\n",
      "hahahah\n",
      "I feel like a stupid person, but actually I ain't.\n",
      "And you ain't got anything to prove that, you moadafaka d@g.\n"
     ]
    }
   ],
   "source": [
    "print('Enter your text: (use \"//end\" to terminate)')\n",
    "\n",
    "message = ''\n",
    "while True:\n",
    "    line = input()\n",
    "    if '//end' in line:\n",
    "        break\n",
    "    message = message + '\\n' + line\n",
    "    \n",
    "    \n",
    "print((message))\n",
    "    "
   ]
  },
  {
   "cell_type": "code",
   "execution_count": null,
   "metadata": {},
   "outputs": [
    {
     "name": "stdout",
     "output_type": "stream",
     "text": [
      "Enter your text: (use \"//end\" to terminate)\n"
     ]
    }
   ],
   "source": [
    "import sys\n",
    "print('Enter your text: (use \"//end\" to terminate)')\n",
    "message = ''\n",
    "while True:\n",
    "    line = sys.stdin.readline()\n",
    "    if '//end' in line:\n",
    "        break\n",
    "    else:\n",
    "        message += line\n",
    "        continue\n"
   ]
  },
  {
   "cell_type": "code",
   "execution_count": 8,
   "metadata": {
    "scrolled": true
   },
   "outputs": [
    {
     "name": "stdout",
     "output_type": "stream",
     "text": [
      "331.12\n",
      "331.12132133 ==>> 331.12\n",
      "331.121321 ==>> 331.12\n",
      "['3.12', '4.31', '7.42', '9.12', '5.23']\n",
      "[3.12, 4.31, 7.42, 9.12, 5.23]\n",
      "[3.12, 4.31, 7.42, 9.12, 5.23]\n"
     ]
    }
   ],
   "source": [
    "x = 331.12132133\n",
    "lst = [3.1212, 4.312342, 7.423424, 9.123232, 5.2342424]\n",
    "\n",
    "print('{:.2f}'.format(x))\n",
    "print(\"{} ==>> {:.2f}\".format(x,x))\n",
    "print('%f ==>> %.2f' %(x,x))\n",
    "\n",
    "print(['{:.2f}'.format(x) for x in lst])\n",
    "print([float('%.2f' %x) for x in lst])\n",
    "print([round(x, 2) for x in lst])"
   ]
  },
  {
   "cell_type": "code",
   "execution_count": 6,
   "metadata": {},
   "outputs": [
    {
     "name": "stdout",
     "output_type": "stream",
     "text": [
      "Hello\n",
      "mister\n",
      "hira\n",
      "chand \n",
      "\n",
      "Hello\n",
      "mister\n",
      "hira\n",
      "chand\n"
     ]
    }
   ],
   "source": [
    "# one liner prints\n",
    "val = ('Hello mister hira chand').split(' ')\n",
    "print('\\n'.join(list(x for x in val)), '\\n')\n",
    "\n",
    "x = [print(x) for x in val]"
   ]
  },
  {
   "cell_type": "markdown",
   "metadata": {},
   "source": [
    "## Searching strings ( can work for lists too )"
   ]
  },
  {
   "cell_type": "code",
   "execution_count": 31,
   "metadata": {},
   "outputs": [
    {
     "name": "stdout",
     "output_type": "stream",
     "text": [
      "['quick', 'over']\n",
      "\n",
      "Using ANY and ALL: \n",
      "ANY result:  True\n",
      "ALL result:  False\n",
      "\n",
      "Using in: \n",
      "Found!!\n",
      "\n",
      "Using find: \n",
      "-1\n",
      "Not available\n",
      "\n",
      "Using REGEX: \n",
      "Found!!\n",
      "Not available\n",
      "The quick browm jumpFFFing over the hill\n",
      "The quick browm jumpfoxing over the hill\n"
     ]
    }
   ],
   "source": [
    "import re\n",
    "str = 'The quick browm jumpfoxing over the hill'\n",
    "cstr = 'quick brown over'.split()\n",
    "\n",
    "check = [w for w in cstr if w in str]\n",
    "print((check))\n",
    "\n",
    "print('\\nUsing ANY and ALL: ')\n",
    "\n",
    "checkANY = any(item in str for item in cstr) #Any one matches\n",
    "print('ANY result: ', checkANY)\n",
    "\n",
    "checkALL = all(item in str for item in cstr) #All should match\n",
    "print('ALL result: ', checkALL)\n",
    "\n",
    "print('\\nUsing in: ')\n",
    "if 'fox' in str: print('Found!!')\n",
    "else: print('Not available')\n",
    "    \n",
    "print('\\nUsing find: ') \n",
    "print(str.find('foxx'))\n",
    "if str.find('foxx') != -1: print('Found!!')\n",
    "else: print('Not available')\n",
    "\n",
    "print('\\nUsing REGEX: ')\n",
    "if re.search(r'fox', str): print('Found!!')  #Searches the word anywhere in the string even in between chars\n",
    "else: print('Not available')\n",
    "if re.search(r'\\bfox\\b', str): print('Found!!') #Searches the Exact word\n",
    "else: print('Not available')\n",
    "\n",
    "print(re.sub(r'fox', 'FFF', str))\n",
    "print(re.sub(r'\\bfox\\b', 'FFF', str))"
   ]
  },
  {
   "cell_type": "code",
   "execution_count": 13,
   "metadata": {},
   "outputs": [
    {
     "name": "stdout",
     "output_type": "stream",
     "text": [
      "12 \n",
      "even\n",
      "Weird\n"
     ]
    }
   ],
   "source": [
    "n = int(input().strip())\n",
    "if n%2 == 0:\n",
    "    print('even')\n",
    "    if n in range(2,6):\n",
    "        print('Not Weird')\n",
    "    elif n in range(6, 21):\n",
    "            print('Weird')\n",
    "    else:\n",
    "        print('Not Weird')\n",
    "else:\n",
    "    print('odd')\n",
    "    print('Weird')"
   ]
  },
  {
   "cell_type": "code",
   "execution_count": 121,
   "metadata": {},
   "outputs": [
    {
     "name": "stdout",
     "output_type": "stream",
     "text": [
      "Help on built-in function print in module builtins:\n",
      "\n",
      "print(...)\n",
      "    print(value, ..., sep=' ', end='\\n', file=sys.stdout, flush=False)\n",
      "    \n",
      "    Prints the values to a stream, or to sys.stdout by default.\n",
      "    Optional keyword arguments:\n",
      "    file:  a file-like object (stream); defaults to the current sys.stdout.\n",
      "    sep:   string inserted between values, default a space.\n",
      "    end:   string appended after the last value, default a newline.\n",
      "    flush: whether to forcibly flush the stream.\n",
      "\n",
      "1234\n",
      "(1, 2, 3, 4, 5)\n",
      "1--2--3--4--5\n"
     ]
    }
   ],
   "source": [
    "l = [1,2,3,4]\n",
    "st = 1,2,3,4,5\n",
    "(help(print))\n",
    "print(*l, sep = '')    # *(iterable) used to unpack an itertor like [1,2,4] will be 124 followed by sep = ''\n",
    "print(st)\n",
    "print(*st, sep = '--')\n"
   ]
  },
  {
   "cell_type": "code",
   "execution_count": 36,
   "metadata": {
    "scrolled": true
   },
   "outputs": [
    {
     "name": "stdout",
     "output_type": "stream",
     "text": [
      "['_STRUCT_TM_ITEMS', '__doc__', '__loader__', '__name__', '__package__', '__spec__', 'altzone', 'asctime', 'ctime', 'daylight', 'get_clock_info', 'gmtime', 'localtime', 'mktime', 'monotonic', 'monotonic_ns', 'perf_counter', 'perf_counter_ns', 'process_time', 'process_time_ns', 'sleep', 'strftime', 'strptime', 'struct_time', 'thread_time', 'thread_time_ns', 'time', 'time_ns', 'timezone', 'tzname']\n",
      "['__class__', '__delattr__', '__dir__', '__doc__', '__eq__', '__format__', '__ge__', '__getattribute__', '__gt__', '__hash__', '__init__', '__init_subclass__', '__le__', '__lt__', '__ne__', '__new__', '__reduce__', '__reduce_ex__', '__repr__', '__setattr__', '__sizeof__', '__str__', '__subclasshook__', 'dst', 'fold', 'fromisoformat', 'hour', 'isoformat', 'max', 'microsecond', 'min', 'minute', 'replace', 'resolution', 'second', 'strftime', 'tzinfo', 'tzname', 'utcoffset']\n",
      "\n",
      " Sunday, 08-Nov-2020, 11:51:13  \n",
      "\n"
     ]
    }
   ],
   "source": [
    "import time\n",
    "import datetime\n",
    "\n",
    "print(dir(time))\n",
    "print(dir(datetime.time))\n",
    "\n",
    "print('\\n {}  \\n'.format(datetime.datetime.now().strftime('%A, %d-%h-%Y, %H:%M:%S')))"
   ]
  },
  {
   "cell_type": "markdown",
   "metadata": {},
   "source": [
    ".................................................................................................................."
   ]
  },
  {
   "cell_type": "code",
   "execution_count": 123,
   "metadata": {},
   "outputs": [
    {
     "name": "stdout",
     "output_type": "stream",
     "text": [
      "1234"
     ]
    }
   ],
   "source": [
    "l = [1,2,3,4]\n",
    "for i in l:\n",
    "    print(i, end=\"\")"
   ]
  },
  {
   "cell_type": "code",
   "execution_count": 7,
   "metadata": {},
   "outputs": [
    {
     "name": "stdout",
     "output_type": "stream",
     "text": [
      "$5*10 = 50\n"
     ]
    }
   ],
   "source": [
    "print('{0:$>2d}*{1:$>2d} = {2:$>2d}'.format(5, 10, 5*10))"
   ]
  },
  {
   "cell_type": "code",
   "execution_count": 17,
   "metadata": {},
   "outputs": [
    {
     "name": "stdout",
     "output_type": "stream",
     "text": [
      "<class '__main__.B'>\n",
      "<class '__main__.A'>\n",
      "False\n",
      "True\n",
      "True\n",
      "True\n"
     ]
    }
   ],
   "source": [
    "class A: pass\n",
    "class B(A): pass\n",
    "class C(object): pass\n",
    "class D(C): pass\n",
    "\n",
    "a = A()\n",
    "b = B()\n",
    "c = C()\n",
    "d = D()\n",
    "\n",
    "print(type(b))\n",
    "print(type(a))\n",
    "print(isinstance(a, type(b)))\n",
    "\n",
    "print(issubclass(C, C))\n",
    "print(isinstance(d, D))\n",
    "print(issubclass(C, (D,A,B,C)))"
   ]
  },
  {
   "cell_type": "code",
   "execution_count": 28,
   "metadata": {},
   "outputs": [
    {
     "ename": "TypeError",
     "evalue": "'set' object is not subscriptable",
     "output_type": "error",
     "traceback": [
      "\u001b[1;31m---------------------------------------------------------------------------\u001b[0m",
      "\u001b[1;31mTypeError\u001b[0m                                 Traceback (most recent call last)",
      "\u001b[1;32m<ipython-input-28-0f8dd9bef179>\u001b[0m in \u001b[0;36m<module>\u001b[1;34m\u001b[0m\n\u001b[0;32m      4\u001b[0m \u001b[1;31m#d1 = {1:4}\u001b[0m\u001b[1;33m\u001b[0m\u001b[1;33m\u001b[0m\u001b[1;33m\u001b[0m\u001b[0m\n\u001b[0;32m      5\u001b[0m \u001b[1;33m\u001b[0m\u001b[0m\n\u001b[1;32m----> 6\u001b[1;33m \u001b[0mprint\u001b[0m\u001b[1;33m(\u001b[0m\u001b[0md1\u001b[0m\u001b[1;33m[\u001b[0m\u001b[1;36m1\u001b[0m\u001b[1;33m]\u001b[0m\u001b[1;33m)\u001b[0m\u001b[1;33m\u001b[0m\u001b[1;33m\u001b[0m\u001b[0m\n\u001b[0m",
      "\u001b[1;31mTypeError\u001b[0m: 'set' object is not subscriptable"
     ]
    }
   ],
   "source": [
    "d1 = dict()\n",
    "\n",
    "d1 = {1,4}\n",
    "#d1 = {1:4}\n",
    "\n",
    "print(d1[1])"
   ]
  },
  {
   "cell_type": "code",
   "execution_count": 31,
   "metadata": {},
   "outputs": [
    {
     "name": "stdout",
     "output_type": "stream",
     "text": [
      "<class 'tuple'>\n"
     ]
    },
    {
     "ename": "ValueError",
     "evalue": "too many values to unpack (expected 2)",
     "output_type": "error",
     "traceback": [
      "\u001b[1;31m---------------------------------------------------------------------------\u001b[0m",
      "\u001b[1;31mValueError\u001b[0m                                Traceback (most recent call last)",
      "\u001b[1;32m<ipython-input-31-107c57f0c44c>\u001b[0m in \u001b[0;36m<module>\u001b[1;34m\u001b[0m\n\u001b[0;32m      2\u001b[0m \u001b[0mprint\u001b[0m\u001b[1;33m(\u001b[0m\u001b[0mtype\u001b[0m\u001b[1;33m(\u001b[0m\u001b[0mx\u001b[0m\u001b[1;33m)\u001b[0m\u001b[1;33m)\u001b[0m\u001b[1;33m\u001b[0m\u001b[1;33m\u001b[0m\u001b[0m\n\u001b[0;32m      3\u001b[0m \u001b[1;33m\u001b[0m\u001b[0m\n\u001b[1;32m----> 4\u001b[1;33m \u001b[0md\u001b[0m\u001b[1;33m,\u001b[0m\u001b[0me\u001b[0m \u001b[1;33m=\u001b[0m \u001b[1;36m1\u001b[0m\u001b[1;33m,\u001b[0m\u001b[1;36m2\u001b[0m\u001b[1;33m,\u001b[0m\u001b[1;36m3\u001b[0m\u001b[1;33m\u001b[0m\u001b[1;33m\u001b[0m\u001b[0m\n\u001b[0m",
      "\u001b[1;31mValueError\u001b[0m: too many values to unpack (expected 2)"
     ]
    }
   ],
   "source": [
    "x = 1,2,3\n",
    "print(type(x))\n",
    "\n",
    "d,e = 1,2,3"
   ]
  },
  {
   "cell_type": "code",
   "execution_count": 44,
   "metadata": {},
   "outputs": [
    {
     "name": "stdout",
     "output_type": "stream",
     "text": [
      "[6, 6, 6, 6]\n"
     ]
    }
   ],
   "source": [
    "def mul():\n",
    "    return [lambda x: i*x for i in range(4)]\n",
    "\n",
    "print([m(2) for m in mul()])"
   ]
  },
  {
   "cell_type": "code",
   "execution_count": 48,
   "metadata": {},
   "outputs": [
    {
     "name": "stdout",
     "output_type": "stream",
     "text": [
      "1\n",
      "2\n"
     ]
    },
    {
     "ename": "StopIteration",
     "evalue": "",
     "output_type": "error",
     "traceback": [
      "\u001b[1;31m---------------------------------------------------------------------------\u001b[0m",
      "\u001b[1;31mStopIteration\u001b[0m                             Traceback (most recent call last)",
      "\u001b[1;32m<ipython-input-48-b24974b6b4b2>\u001b[0m in \u001b[0;36m<module>\u001b[1;34m\u001b[0m\n\u001b[0;32m     10\u001b[0m \u001b[0mn\u001b[0m \u001b[1;33m=\u001b[0m \u001b[1;36m5\u001b[0m\u001b[1;33m\u001b[0m\u001b[1;33m\u001b[0m\u001b[0m\n\u001b[0;32m     11\u001b[0m \u001b[0mf\u001b[0m \u001b[1;33m=\u001b[0m \u001b[0mfoo\u001b[0m\u001b[1;33m(\u001b[0m\u001b[0mn\u001b[0m\u001b[1;33m)\u001b[0m\u001b[1;33m\u001b[0m\u001b[1;33m\u001b[0m\u001b[0m\n\u001b[1;32m---> 12\u001b[1;33m \u001b[1;32mfor\u001b[0m \u001b[0mi\u001b[0m \u001b[1;32min\u001b[0m \u001b[0mrange\u001b[0m\u001b[1;33m(\u001b[0m\u001b[0mn\u001b[0m\u001b[1;33m)\u001b[0m\u001b[1;33m:\u001b[0m \u001b[0mprint\u001b[0m\u001b[1;33m(\u001b[0m\u001b[0mf\u001b[0m\u001b[1;33m.\u001b[0m\u001b[0m__next__\u001b[0m\u001b[1;33m(\u001b[0m\u001b[1;33m)\u001b[0m\u001b[1;33m)\u001b[0m\u001b[1;33m\u001b[0m\u001b[1;33m\u001b[0m\u001b[0m\n\u001b[0m",
      "\u001b[1;31mStopIteration\u001b[0m: "
     ]
    }
   ],
   "source": [
    "def foo(n):\n",
    "    if (n<3): yield 1\n",
    "    else: return \n",
    "    yield 2\n",
    "\n",
    "n = 2\n",
    "f = foo(n)\n",
    "for i in range(n): print(f.__next__())\n",
    "\n",
    "n = 5\n",
    "f = foo(n)\n",
    "for i in range(n): print(f.__next__())   "
   ]
  },
  {
   "cell_type": "code",
   "execution_count": 51,
   "metadata": {},
   "outputs": [
    {
     "name": "stdout",
     "output_type": "stream",
     "text": [
      "(<class '__main__.ch'>, <class '__main__.mt'>, <class '__main__.ft'>, <class '__main__.gp'>, <class 'object'>)\n"
     ]
    }
   ],
   "source": [
    "class gp(object): pass\n",
    "class ft(gp): pass\n",
    "class mt(object): pass\n",
    "class ch(mt, ft): pass\n",
    "\n",
    "print(ch.__mro__)"
   ]
  },
  {
   "cell_type": "code",
   "execution_count": 52,
   "metadata": {},
   "outputs": [
    {
     "name": "stdout",
     "output_type": "stream",
     "text": [
      "<class 'int'>\n"
     ]
    }
   ],
   "source": [
    "a = (5)\n",
    "print(type(a))"
   ]
  },
  {
   "cell_type": "code",
   "execution_count": 58,
   "metadata": {},
   "outputs": [
    {
     "ename": "TypeError",
     "evalue": "unhashable type: 'list'",
     "output_type": "error",
     "traceback": [
      "\u001b[1;31m---------------------------------------------------------------------------\u001b[0m",
      "\u001b[1;31mTypeError\u001b[0m                                 Traceback (most recent call last)",
      "\u001b[1;32m<ipython-input-58-3cdea542ef15>\u001b[0m in \u001b[0;36m<module>\u001b[1;34m\u001b[0m\n\u001b[0;32m      3\u001b[0m \u001b[1;33m\u001b[0m\u001b[0m\n\u001b[0;32m      4\u001b[0m \u001b[0mdic\u001b[0m \u001b[1;33m=\u001b[0m \u001b[0mdict\u001b[0m\u001b[1;33m(\u001b[0m\u001b[0mzip\u001b[0m\u001b[1;33m(\u001b[0m\u001b[0mkeys\u001b[0m\u001b[1;33m,\u001b[0m \u001b[0mvals\u001b[0m\u001b[1;33m)\u001b[0m\u001b[1;33m)\u001b[0m\u001b[1;33m\u001b[0m\u001b[1;33m\u001b[0m\u001b[0m\n\u001b[1;32m----> 5\u001b[1;33m \u001b[0mdic\u001b[0m \u001b[1;33m=\u001b[0m \u001b[1;33m{\u001b[0m\u001b[0mkeys\u001b[0m\u001b[1;33m:\u001b[0m \u001b[0mval\u001b[0m \u001b[1;32mfor\u001b[0m \u001b[0mkey\u001b[0m \u001b[1;32min\u001b[0m \u001b[0mkeys\u001b[0m \u001b[1;32mfor\u001b[0m \u001b[0mval\u001b[0m \u001b[1;32min\u001b[0m \u001b[0mvals\u001b[0m\u001b[1;33m}\u001b[0m\u001b[1;33m\u001b[0m\u001b[1;33m\u001b[0m\u001b[0m\n\u001b[0m\u001b[0;32m      6\u001b[0m \u001b[1;33m\u001b[0m\u001b[0m\n\u001b[0;32m      7\u001b[0m \u001b[0mprint\u001b[0m\u001b[1;33m(\u001b[0m\u001b[0mdic\u001b[0m\u001b[1;33m.\u001b[0m\u001b[0mvalues\u001b[0m\u001b[1;33m(\u001b[0m\u001b[1;33m)\u001b[0m\u001b[1;33m)\u001b[0m\u001b[1;33m\u001b[0m\u001b[1;33m\u001b[0m\u001b[0m\n",
      "\u001b[1;32m<ipython-input-58-3cdea542ef15>\u001b[0m in \u001b[0;36m<dictcomp>\u001b[1;34m(.0)\u001b[0m\n\u001b[0;32m      3\u001b[0m \u001b[1;33m\u001b[0m\u001b[0m\n\u001b[0;32m      4\u001b[0m \u001b[0mdic\u001b[0m \u001b[1;33m=\u001b[0m \u001b[0mdict\u001b[0m\u001b[1;33m(\u001b[0m\u001b[0mzip\u001b[0m\u001b[1;33m(\u001b[0m\u001b[0mkeys\u001b[0m\u001b[1;33m,\u001b[0m \u001b[0mvals\u001b[0m\u001b[1;33m)\u001b[0m\u001b[1;33m)\u001b[0m\u001b[1;33m\u001b[0m\u001b[1;33m\u001b[0m\u001b[0m\n\u001b[1;32m----> 5\u001b[1;33m \u001b[0mdic\u001b[0m \u001b[1;33m=\u001b[0m \u001b[1;33m{\u001b[0m\u001b[0mkeys\u001b[0m\u001b[1;33m:\u001b[0m \u001b[0mval\u001b[0m \u001b[1;32mfor\u001b[0m \u001b[0mkey\u001b[0m \u001b[1;32min\u001b[0m \u001b[0mkeys\u001b[0m \u001b[1;32mfor\u001b[0m \u001b[0mval\u001b[0m \u001b[1;32min\u001b[0m \u001b[0mvals\u001b[0m\u001b[1;33m}\u001b[0m\u001b[1;33m\u001b[0m\u001b[1;33m\u001b[0m\u001b[0m\n\u001b[0m\u001b[0;32m      6\u001b[0m \u001b[1;33m\u001b[0m\u001b[0m\n\u001b[0;32m      7\u001b[0m \u001b[0mprint\u001b[0m\u001b[1;33m(\u001b[0m\u001b[0mdic\u001b[0m\u001b[1;33m.\u001b[0m\u001b[0mvalues\u001b[0m\u001b[1;33m(\u001b[0m\u001b[1;33m)\u001b[0m\u001b[1;33m)\u001b[0m\u001b[1;33m\u001b[0m\u001b[1;33m\u001b[0m\u001b[0m\n",
      "\u001b[1;31mTypeError\u001b[0m: unhashable type: 'list'"
     ]
    }
   ],
   "source": [
    "keys = [1,2,3]\n",
    "vals = [3,2,1]\n",
    "\n",
    "dic = dict(zip(keys, vals))\n",
    "dic = {keys: val for key in keys for val in vals}\n",
    "\n",
    "print(dic.values())"
   ]
  },
  {
   "cell_type": "code",
   "execution_count": 67,
   "metadata": {},
   "outputs": [
    {
     "name": "stdout",
     "output_type": "stream",
     "text": [
      "'function' object has no attribute 's'\n",
      "qwwq\n",
      "<class 'str'>\n"
     ]
    }
   ],
   "source": [
    "def f(a,b):\n",
    "    f.s = \"qwwq\"\n",
    "    return a+b\n",
    "\n",
    "try:\n",
    "    print(f.s)\n",
    "except Exception as e:\n",
    "    print(e)\n",
    "\n",
    "f(3,4)\n",
    "\n",
    "try:\n",
    "    print(f.s)\n",
    "    print(type(f.s))\n",
    "except Exception as e:\n",
    "    print(e)"
   ]
  },
  {
   "cell_type": "code",
   "execution_count": 72,
   "metadata": {},
   "outputs": [
    {
     "name": "stderr",
     "output_type": "stream",
     "text": [
      "WARNING:root:A Warning\n",
      "ERROR:root:An Error\n"
     ]
    },
    {
     "ename": "AttributeError",
     "evalue": "module 'logging' has no attribute 'debut'",
     "output_type": "error",
     "traceback": [
      "\u001b[1;31m---------------------------------------------------------------------------\u001b[0m",
      "\u001b[1;31mAttributeError\u001b[0m                            Traceback (most recent call last)",
      "\u001b[1;32m<ipython-input-72-a86401ffaeb6>\u001b[0m in \u001b[0;36m<module>\u001b[1;34m\u001b[0m\n\u001b[0;32m      4\u001b[0m \u001b[0mlogging\u001b[0m\u001b[1;33m.\u001b[0m\u001b[0minfo\u001b[0m\u001b[1;33m(\u001b[0m\u001b[1;34m'A info'\u001b[0m\u001b[1;33m)\u001b[0m\u001b[1;33m\u001b[0m\u001b[1;33m\u001b[0m\u001b[0m\n\u001b[0;32m      5\u001b[0m \u001b[0mlogging\u001b[0m\u001b[1;33m.\u001b[0m\u001b[0merror\u001b[0m\u001b[1;33m(\u001b[0m\u001b[1;34m'An Error'\u001b[0m\u001b[1;33m)\u001b[0m\u001b[1;33m\u001b[0m\u001b[1;33m\u001b[0m\u001b[0m\n\u001b[1;32m----> 6\u001b[1;33m \u001b[0mlogging\u001b[0m\u001b[1;33m.\u001b[0m\u001b[0mdebut\u001b[0m\u001b[1;33m(\u001b[0m\u001b[1;34m'Debugging'\u001b[0m\u001b[1;33m)\u001b[0m\u001b[1;33m\u001b[0m\u001b[1;33m\u001b[0m\u001b[0m\n\u001b[0m",
      "\u001b[1;31mAttributeError\u001b[0m: module 'logging' has no attribute 'debut'"
     ]
    }
   ],
   "source": [
    "import logging\n",
    "\n",
    "logging.warning('A Warning')\n",
    "logging.info('A info')\n",
    "logging.error('An Error')\n",
    "logging.debut('Debugging')"
   ]
  },
  {
   "cell_type": "code",
   "execution_count": 77,
   "metadata": {},
   "outputs": [
    {
     "ename": "NameError",
     "evalue": "name 'args' is not defined",
     "output_type": "error",
     "traceback": [
      "\u001b[1;31m---------------------------------------------------------------------------\u001b[0m",
      "\u001b[1;31mNameError\u001b[0m                                 Traceback (most recent call last)",
      "\u001b[1;32m<ipython-input-77-46e747643243>\u001b[0m in \u001b[0;36m<module>\u001b[1;34m\u001b[0m\n\u001b[0;32m      9\u001b[0m \u001b[1;33m\u001b[0m\u001b[0m\n\u001b[0;32m     10\u001b[0m \u001b[1;33m@\u001b[0m\u001b[0mdev_smart\u001b[0m\u001b[1;33m\u001b[0m\u001b[1;33m\u001b[0m\u001b[0m\n\u001b[1;32m---> 11\u001b[1;33m \u001b[1;32mdef\u001b[0m \u001b[0mdev\u001b[0m\u001b[1;33m(\u001b[0m\u001b[0ma\u001b[0m\u001b[1;33m,\u001b[0m\u001b[0mb\u001b[0m\u001b[1;33m)\u001b[0m\u001b[1;33m:\u001b[0m\u001b[1;33m\u001b[0m\u001b[1;33m\u001b[0m\u001b[0m\n\u001b[0m\u001b[0;32m     12\u001b[0m     \u001b[1;32mreturn\u001b[0m \u001b[0ma\u001b[0m\u001b[1;33m/\u001b[0m\u001b[0mb\u001b[0m\u001b[1;33m\u001b[0m\u001b[1;33m\u001b[0m\u001b[0m\n\u001b[0;32m     13\u001b[0m \u001b[1;33m\u001b[0m\u001b[0m\n",
      "\u001b[1;32m<ipython-input-77-46e747643243>\u001b[0m in \u001b[0;36mdev_smart\u001b[1;34m(func)\u001b[0m\n\u001b[0;32m      5\u001b[0m             \u001b[0mprint\u001b[0m\u001b[1;33m(\u001b[0m\u001b[1;34m'OOps'\u001b[0m\u001b[1;33m)\u001b[0m\u001b[1;33m\u001b[0m\u001b[1;33m\u001b[0m\u001b[0m\n\u001b[0;32m      6\u001b[0m         \u001b[1;32mreturn\u001b[0m\u001b[1;33m\u001b[0m\u001b[1;33m\u001b[0m\u001b[0m\n\u001b[1;32m----> 7\u001b[1;33m     \u001b[1;32mreturn\u001b[0m \u001b[0mfunc\u001b[0m\u001b[1;33m(\u001b[0m\u001b[1;33m*\u001b[0m\u001b[0margs\u001b[0m\u001b[1;33m)\u001b[0m\u001b[1;33m\u001b[0m\u001b[1;33m\u001b[0m\u001b[0m\n\u001b[0m\u001b[0;32m      8\u001b[0m \u001b[1;33m\u001b[0m\u001b[0m\n\u001b[0;32m      9\u001b[0m \u001b[1;33m\u001b[0m\u001b[0m\n",
      "\u001b[1;31mNameError\u001b[0m: name 'args' is not defined"
     ]
    }
   ],
   "source": [
    "def dev_smart(func):\n",
    "    def wrapper(*args):\n",
    "        a,b = args\n",
    "        if b ==0:\n",
    "            print('OOps')\n",
    "        return\n",
    "    return func(*args)\n",
    "\n",
    "\n",
    "@dev_smart\n",
    "def dev(a,b):\n",
    "    return a/b\n",
    "\n",
    "print(dev.__name__)\n",
    "print(dev(4,16))\n",
    "\n",
    "print(dev(0, 34))"
   ]
  },
  {
   "cell_type": "code",
   "execution_count": 79,
   "metadata": {},
   "outputs": [
    {
     "name": "stdout",
     "output_type": "stream",
     "text": [
      "True\n"
     ]
    }
   ],
   "source": [
    "ls = [1,2,1,1,3,4]\n",
    "el = 1\n",
    "\n",
    "print(el in ls and el in ls[ls.index(el)+1:])\n",
    "\n",
    "\n",
    "try:\n",
    "    "
   ]
  },
  {
   "cell_type": "code",
   "execution_count": 80,
   "metadata": {},
   "outputs": [
    {
     "name": "stdout",
     "output_type": "stream",
     "text": [
      "<class 'type'>\n",
      "<class 'type'>\n",
      "<class 'type'>\n"
     ]
    }
   ],
   "source": [
    "class Type(type): pass\n",
    "class subtype(Type): pass\n",
    "class obj(object):\n",
    "    __metaclass__ = type\n",
    "\n",
    "print(type.__class__)\n",
    "print(subtype.__class__)\n",
    "print(obj.__class__)\n"
   ]
  },
  {
   "cell_type": "code",
   "execution_count": 82,
   "metadata": {},
   "outputs": [
    {
     "name": "stdout",
     "output_type": "stream",
     "text": [
      "2\n",
      "2\n",
      "3\n",
      "2\n"
     ]
    }
   ],
   "source": [
    "class class1:\n",
    "    a = 1\n",
    "    def f1():\n",
    "        a = 2\n",
    "        class1.a+=1\n",
    "        print(class1.a)\n",
    "        print(a)\n",
    "\n",
    "class1.f1()\n",
    "class1.f1()"
   ]
  },
  {
   "cell_type": "code",
   "execution_count": 83,
   "metadata": {},
   "outputs": [],
   "source": [
    "import re\n",
    "\n",
    "def f1(data):\n",
    "    p = re.compile('(?P[A-Z]{2,3})(?P[0-9]{3})')\n",
    "    return p.search(data)\n"
   ]
  },
  {
   "cell_type": "code",
   "execution_count": null,
   "metadata": {},
   "outputs": [],
   "source": [
    "def dep(func):\n",
    "    def new(*args, **kwargs):\n",
    "        warnings.warn('AAAAAAAAA'),\n",
    "        cat = DeprecationWarning)\n",
    "        return func(*args, **kwargs)\n",
    "    return new\n",
    "\n",
    "@dep\n",
    "def prod(x,y)"
   ]
  },
  {
   "cell_type": "code",
   "execution_count": 62,
   "metadata": {},
   "outputs": [
    {
     "name": "stdout",
     "output_type": "stream",
     "text": [
      "[1, 3, 6, 10, 15] \n",
      "\n",
      "[1, 2, 3, 4, 5, 6, 7, 8, 9] \n",
      "\n",
      "[(1, 2), (1, 3), (1, 4), (1, 5), (2, 3), (2, 4), (2, 5), (3, 4), (3, 5), (4, 5)] \n",
      "\n",
      "[(1, 2), (1, 3), (1, 4), (1, 5), (2, 1), (2, 3), (2, 4), (2, 5), (3, 1), (3, 2), (3, 4), (3, 5), (4, 1), (4, 2), (4, 3), (4, 5), (5, 1), (5, 2), (5, 3), (5, 4)] \n",
      "\n",
      "25 [{'name': 'Dan', 'age': '25'}, {'name': 'Dick', 'age': '25'}]\n",
      "29 [{'name': 'Martha', 'age': '29'}]\n",
      "25 [{'name': 'Ben', 'age': '25'}]\n",
      "27 [{'name': 'Sam', 'age': '27'}]\n"
     ]
    }
   ],
   "source": [
    "import itertools\n",
    "\n",
    "ls = [1,2,3,4,5]\n",
    "ls2 = [6,7,8,9]\n",
    "#print(dir(itertools),'\\n')\n",
    "\n",
    "dic = [{'name': 'Dan', 'age':'25'}, {'name': 'Dick', 'age':'25'}, {'name': 'Martha', 'age':'29'}, {'name': 'Ben', 'age':'25'}, {'name': 'Sam', 'age':'27'}]\n",
    "\n",
    "print(list(itertools.accumulate(ls)),'\\n')\n",
    "print(list(itertools.chain(ls, ls2)),'\\n')\n",
    "print(list(itertools.combinations(ls, 2)),'\\n')\n",
    "print(list(itertools.permutations(ls, 2)),'\\n')\n",
    "\n",
    "group_obj = itertools.groupby(dic, key = lambda x: x['age'])\n",
    "\n",
    "for key, value in group_obj:\n",
    "    print(key, list(value))\n"
   ]
  },
  {
   "cell_type": "code",
   "execution_count": 10,
   "metadata": {},
   "outputs": [
    {
     "name": "stdout",
     "output_type": "stream",
     "text": [
      "2\n",
      "12.57\n"
     ]
    }
   ],
   "source": [
    "import math\n",
    "\n",
    "class Circle:\n",
    "    def __init__(self, radius):\n",
    "        if not type(radius) is int and not type(radius) is float:\n",
    "            raise TypeError(\"radius must be a number\")\n",
    "        if not (radius >= 0 and radius <= 1000):\n",
    "            raise ValueError(\"radius must be between 0 and 1000 inclusive\")\n",
    "        self.radius = radius\n",
    "\n",
    "    def area(self):\n",
    "        return round(math.pi * (self.radius ** 2), 2)\n",
    "\n",
    "    def circumference(self):\n",
    "        return round(2 * math.pi * self.radius, 2)\n",
    "    \n",
    "c1 = Circle(2)\n",
    "\n",
    "print(c1.radius)\n",
    "print(c1.area())"
   ]
  },
  {
   "cell_type": "code",
   "execution_count": 64,
   "metadata": {},
   "outputs": [],
   "source": [
    "import datetime\n",
    "\n",
    "#print(help(datetime.time))"
   ]
  },
  {
   "cell_type": "code",
   "execution_count": null,
   "metadata": {},
   "outputs": [],
   "source": []
  },
  {
   "cell_type": "code",
   "execution_count": null,
   "metadata": {},
   "outputs": [],
   "source": []
  },
  {
   "cell_type": "code",
   "execution_count": null,
   "metadata": {},
   "outputs": [],
   "source": []
  },
  {
   "cell_type": "code",
   "execution_count": null,
   "metadata": {},
   "outputs": [],
   "source": []
  },
  {
   "cell_type": "code",
   "execution_count": null,
   "metadata": {},
   "outputs": [],
   "source": []
  },
  {
   "cell_type": "code",
   "execution_count": null,
   "metadata": {},
   "outputs": [],
   "source": []
  },
  {
   "cell_type": "code",
   "execution_count": null,
   "metadata": {},
   "outputs": [],
   "source": []
  }
 ],
 "metadata": {
  "kernelspec": {
   "display_name": "Python 3",
   "language": "python",
   "name": "python3"
  },
  "language_info": {
   "codemirror_mode": {
    "name": "ipython",
    "version": 3
   },
   "file_extension": ".py",
   "mimetype": "text/x-python",
   "name": "python",
   "nbconvert_exporter": "python",
   "pygments_lexer": "ipython3",
   "version": "3.8.5"
  }
 },
 "nbformat": 4,
 "nbformat_minor": 4
}
