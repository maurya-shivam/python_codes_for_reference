{
 "cells": [
  {
   "cell_type": "code",
   "execution_count": 1,
   "metadata": {},
   "outputs": [
    {
     "name": "stderr",
     "output_type": "stream",
     "text": [
      "usage: ipykernel_launcher.py [-h] [--filename FILENAME [FILENAME ...]]\n",
      "ipykernel_launcher.py: error: unrecognized arguments: -f C:\\Users\\Shivam Maurya\\AppData\\Roaming\\jupyter\\runtime\\kernel-c37031b2-eea5-4ec7-a68e-8d4905caa16a.json\n"
     ]
    },
    {
     "ename": "SystemExit",
     "evalue": "2",
     "output_type": "error",
     "traceback": [
      "An exception has occurred, use %tb to see the full traceback.\n",
      "\u001b[1;31mSystemExit\u001b[0m\u001b[1;31m:\u001b[0m 2\n"
     ]
    },
    {
     "name": "stderr",
     "output_type": "stream",
     "text": [
      "C:\\Anaconda\\anaconda\\lib\\site-packages\\IPython\\core\\interactiveshell.py:3339: UserWarning: To exit: use 'exit', 'quit', or Ctrl-D.\n",
      "  warn(\"To exit: use 'exit', 'quit', or Ctrl-D.\", stacklevel=1)\n"
     ]
    }
   ],
   "source": [
    "import sys\n",
    "import re\n",
    "import argparse\n",
    "\n",
    "parser = argparse.ArgumentParser()\n",
    "\n",
    "parser.add_argument(\"--filename\", \"-n\", nargs = \"+\", help = \"set output filename\")\n",
    "args = parser.parse_args()\n",
    "\n",
    "def main():\n",
    "\n",
    "    File_Format = args.filename\n",
    "    for n in File_Format:\n",
    "        commands = (\"cd /asa/asas/sas/sas/; ls \"+n+\"\")\n",
    "        process = subprocess.Popen(\"/bin/bash\", stdin = subprocess.PIPE, stdout = subprocess.PIPE)\n",
    "        \n",
    "        out, err = process.communicate(commands.encode(\"utf-8\"))\n",
    "        print(out)\n",
    "        if out is '':\n",
    "            print(\"Error\")\n",
    "            sys.exit(2)\n",
    "        Filenames  = (out.rstrip()).split('\\n')\n",
    "        \n",
    "        for m in Filenames:\n",
    "            print(m)\n",
    "            commands = (\"grep -E 'PNUM = *.*MSST = Copy step sucessful.*DFIL = .*\"+ m + \"' S20*\")\n",
    "            print(commands)\n",
    "            process = subprocess.Popen(\"/bin/bash\", stdin = subprocess.PIPE, stdout = subprocess.PIPE)\n",
    "            \n",
    "            out1, err = process.commuinicate(commands.encode(\"utf-8\"))\n",
    "            print(out1.replace(\"|\", \"\\n\"))\n",
    "            sys.exit(2)\n",
    "\n",
    "if __name__ == '__main__':\n",
    "    #main()\n",
    "    pass"
   ]
  },
  {
   "cell_type": "code",
   "execution_count": null,
   "metadata": {},
   "outputs": [],
   "source": []
  },
  {
   "cell_type": "code",
   "execution_count": null,
   "metadata": {},
   "outputs": [],
   "source": []
  },
  {
   "cell_type": "code",
   "execution_count": null,
   "metadata": {},
   "outputs": [],
   "source": []
  },
  {
   "cell_type": "code",
   "execution_count": null,
   "metadata": {},
   "outputs": [],
   "source": []
  },
  {
   "cell_type": "code",
   "execution_count": null,
   "metadata": {},
   "outputs": [],
   "source": []
  }
 ],
 "metadata": {
  "kernelspec": {
   "display_name": "Python 3",
   "language": "python",
   "name": "python3"
  },
  "language_info": {
   "codemirror_mode": {
    "name": "ipython",
    "version": 3
   },
   "file_extension": ".py",
   "mimetype": "text/x-python",
   "name": "python",
   "nbconvert_exporter": "python",
   "pygments_lexer": "ipython3",
   "version": "3.8.5"
  }
 },
 "nbformat": 4,
 "nbformat_minor": 4
}
